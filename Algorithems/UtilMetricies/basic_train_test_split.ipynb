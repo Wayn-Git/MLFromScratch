{
 "cells": [
  {
   "cell_type": "code",
   "execution_count": 50,
   "id": "6a318a39",
   "metadata": {},
   "outputs": [
    {
     "name": "stdout",
     "output_type": "stream",
     "text": [
      "Note: you may need to restart the kernel to use updated packages.\n"
     ]
    }
   ],
   "source": [
    "%pip install --quiet seaborn pandas"
   ]
  },
  {
   "cell_type": "code",
   "execution_count": 51,
   "id": "ab75161b",
   "metadata": {},
   "outputs": [],
   "source": [
    "import pandas as pd\n",
    "import seaborn as sns"
   ]
  },
  {
   "cell_type": "code",
   "execution_count": 52,
   "id": "08801451",
   "metadata": {},
   "outputs": [
    {
     "data": {
      "text/plain": [
       "['anagrams',\n",
       " 'anscombe',\n",
       " 'attention',\n",
       " 'brain_networks',\n",
       " 'car_crashes',\n",
       " 'diamonds',\n",
       " 'dots',\n",
       " 'dowjones',\n",
       " 'exercise',\n",
       " 'flights',\n",
       " 'fmri',\n",
       " 'geyser',\n",
       " 'glue',\n",
       " 'healthexp',\n",
       " 'iris',\n",
       " 'mpg',\n",
       " 'penguins',\n",
       " 'planets',\n",
       " 'seaice',\n",
       " 'taxis',\n",
       " 'tips',\n",
       " 'titanic']"
      ]
     },
     "execution_count": 52,
     "metadata": {},
     "output_type": "execute_result"
    }
   ],
   "source": [
    "sns.get_dataset_names()"
   ]
  },
  {
   "cell_type": "code",
   "execution_count": 53,
   "id": "3d760a5e",
   "metadata": {},
   "outputs": [],
   "source": [
    "df = sns.load_dataset(\"iris\")"
   ]
  },
  {
   "cell_type": "code",
   "execution_count": 54,
   "id": "6cc41364",
   "metadata": {},
   "outputs": [
    {
     "data": {
      "application/vnd.microsoft.datawrangler.viewer.v0+json": {
       "columns": [
        {
         "name": "index",
         "rawType": "int64",
         "type": "integer"
        },
        {
         "name": "sepal_length",
         "rawType": "float64",
         "type": "float"
        },
        {
         "name": "sepal_width",
         "rawType": "float64",
         "type": "float"
        },
        {
         "name": "petal_length",
         "rawType": "float64",
         "type": "float"
        },
        {
         "name": "petal_width",
         "rawType": "float64",
         "type": "float"
        },
        {
         "name": "species",
         "rawType": "object",
         "type": "string"
        }
       ],
       "ref": "02d84d03-0d65-459d-8b6f-2edcdd1ba092",
       "rows": [
        [
         "0",
         "5.1",
         "3.5",
         "1.4",
         "0.2",
         "setosa"
        ],
        [
         "1",
         "4.9",
         "3.0",
         "1.4",
         "0.2",
         "setosa"
        ],
        [
         "2",
         "4.7",
         "3.2",
         "1.3",
         "0.2",
         "setosa"
        ],
        [
         "3",
         "4.6",
         "3.1",
         "1.5",
         "0.2",
         "setosa"
        ],
        [
         "4",
         "5.0",
         "3.6",
         "1.4",
         "0.2",
         "setosa"
        ]
       ],
       "shape": {
        "columns": 5,
        "rows": 5
       }
      },
      "text/html": [
       "<div>\n",
       "<style scoped>\n",
       "    .dataframe tbody tr th:only-of-type {\n",
       "        vertical-align: middle;\n",
       "    }\n",
       "\n",
       "    .dataframe tbody tr th {\n",
       "        vertical-align: top;\n",
       "    }\n",
       "\n",
       "    .dataframe thead th {\n",
       "        text-align: right;\n",
       "    }\n",
       "</style>\n",
       "<table border=\"1\" class=\"dataframe\">\n",
       "  <thead>\n",
       "    <tr style=\"text-align: right;\">\n",
       "      <th></th>\n",
       "      <th>sepal_length</th>\n",
       "      <th>sepal_width</th>\n",
       "      <th>petal_length</th>\n",
       "      <th>petal_width</th>\n",
       "      <th>species</th>\n",
       "    </tr>\n",
       "  </thead>\n",
       "  <tbody>\n",
       "    <tr>\n",
       "      <th>0</th>\n",
       "      <td>5.1</td>\n",
       "      <td>3.5</td>\n",
       "      <td>1.4</td>\n",
       "      <td>0.2</td>\n",
       "      <td>setosa</td>\n",
       "    </tr>\n",
       "    <tr>\n",
       "      <th>1</th>\n",
       "      <td>4.9</td>\n",
       "      <td>3.0</td>\n",
       "      <td>1.4</td>\n",
       "      <td>0.2</td>\n",
       "      <td>setosa</td>\n",
       "    </tr>\n",
       "    <tr>\n",
       "      <th>2</th>\n",
       "      <td>4.7</td>\n",
       "      <td>3.2</td>\n",
       "      <td>1.3</td>\n",
       "      <td>0.2</td>\n",
       "      <td>setosa</td>\n",
       "    </tr>\n",
       "    <tr>\n",
       "      <th>3</th>\n",
       "      <td>4.6</td>\n",
       "      <td>3.1</td>\n",
       "      <td>1.5</td>\n",
       "      <td>0.2</td>\n",
       "      <td>setosa</td>\n",
       "    </tr>\n",
       "    <tr>\n",
       "      <th>4</th>\n",
       "      <td>5.0</td>\n",
       "      <td>3.6</td>\n",
       "      <td>1.4</td>\n",
       "      <td>0.2</td>\n",
       "      <td>setosa</td>\n",
       "    </tr>\n",
       "  </tbody>\n",
       "</table>\n",
       "</div>"
      ],
      "text/plain": [
       "   sepal_length  sepal_width  petal_length  petal_width species\n",
       "0           5.1          3.5           1.4          0.2  setosa\n",
       "1           4.9          3.0           1.4          0.2  setosa\n",
       "2           4.7          3.2           1.3          0.2  setosa\n",
       "3           4.6          3.1           1.5          0.2  setosa\n",
       "4           5.0          3.6           1.4          0.2  setosa"
      ]
     },
     "execution_count": 54,
     "metadata": {},
     "output_type": "execute_result"
    }
   ],
   "source": [
    "df.head()"
   ]
  },
  {
   "cell_type": "code",
   "execution_count": 55,
   "id": "00abb58b",
   "metadata": {},
   "outputs": [],
   "source": [
    "import random"
   ]
  },
  {
   "cell_type": "code",
   "execution_count": 56,
   "id": "6557b8db",
   "metadata": {},
   "outputs": [
    {
     "data": {
      "application/vnd.microsoft.datawrangler.viewer.v0+json": {
       "columns": [
        {
         "name": "index",
         "rawType": "int64",
         "type": "integer"
        },
        {
         "name": "sepal_length",
         "rawType": "float64",
         "type": "float"
        },
        {
         "name": "sepal_width",
         "rawType": "float64",
         "type": "float"
        },
        {
         "name": "petal_length",
         "rawType": "float64",
         "type": "float"
        },
        {
         "name": "petal_width",
         "rawType": "float64",
         "type": "float"
        },
        {
         "name": "species",
         "rawType": "object",
         "type": "string"
        }
       ],
       "ref": "6fab7a57-16a9-40c4-b266-441c2e5d8b3a",
       "rows": [
        [
         "135",
         "7.7",
         "3.0",
         "6.1",
         "2.3",
         "virginica"
        ],
        [
         "87",
         "6.3",
         "2.3",
         "4.4",
         "1.3",
         "versicolor"
        ],
        [
         "54",
         "6.5",
         "2.8",
         "4.6",
         "1.5",
         "versicolor"
        ],
        [
         "130",
         "7.4",
         "2.8",
         "6.1",
         "1.9",
         "virginica"
        ],
        [
         "30",
         "4.8",
         "3.1",
         "1.6",
         "0.2",
         "setosa"
        ],
        [
         "141",
         "6.9",
         "3.1",
         "5.1",
         "2.3",
         "virginica"
        ],
        [
         "68",
         "6.2",
         "2.2",
         "4.5",
         "1.5",
         "versicolor"
        ],
        [
         "91",
         "6.1",
         "3.0",
         "4.6",
         "1.4",
         "versicolor"
        ],
        [
         "8",
         "4.4",
         "2.9",
         "1.4",
         "0.2",
         "setosa"
        ],
        [
         "65",
         "6.7",
         "3.1",
         "4.4",
         "1.4",
         "versicolor"
        ],
        [
         "32",
         "5.2",
         "4.1",
         "1.5",
         "0.1",
         "setosa"
        ],
        [
         "58",
         "6.6",
         "2.9",
         "4.6",
         "1.3",
         "versicolor"
        ],
        [
         "6",
         "4.6",
         "3.4",
         "1.4",
         "0.3",
         "setosa"
        ],
        [
         "59",
         "5.2",
         "2.7",
         "3.9",
         "1.4",
         "versicolor"
        ],
        [
         "45",
         "4.8",
         "3.0",
         "1.4",
         "0.3",
         "setosa"
        ],
        [
         "117",
         "7.7",
         "3.8",
         "6.7",
         "2.2",
         "virginica"
        ],
        [
         "115",
         "6.4",
         "3.2",
         "5.3",
         "2.3",
         "virginica"
        ],
        [
         "112",
         "6.8",
         "3.0",
         "5.5",
         "2.1",
         "virginica"
        ],
        [
         "7",
         "5.0",
         "3.4",
         "1.5",
         "0.2",
         "setosa"
        ],
        [
         "40",
         "5.0",
         "3.5",
         "1.3",
         "0.3",
         "setosa"
        ]
       ],
       "shape": {
        "columns": 5,
        "rows": 20
       }
      },
      "text/html": [
       "<div>\n",
       "<style scoped>\n",
       "    .dataframe tbody tr th:only-of-type {\n",
       "        vertical-align: middle;\n",
       "    }\n",
       "\n",
       "    .dataframe tbody tr th {\n",
       "        vertical-align: top;\n",
       "    }\n",
       "\n",
       "    .dataframe thead th {\n",
       "        text-align: right;\n",
       "    }\n",
       "</style>\n",
       "<table border=\"1\" class=\"dataframe\">\n",
       "  <thead>\n",
       "    <tr style=\"text-align: right;\">\n",
       "      <th></th>\n",
       "      <th>sepal_length</th>\n",
       "      <th>sepal_width</th>\n",
       "      <th>petal_length</th>\n",
       "      <th>petal_width</th>\n",
       "      <th>species</th>\n",
       "    </tr>\n",
       "  </thead>\n",
       "  <tbody>\n",
       "    <tr>\n",
       "      <th>135</th>\n",
       "      <td>7.7</td>\n",
       "      <td>3.0</td>\n",
       "      <td>6.1</td>\n",
       "      <td>2.3</td>\n",
       "      <td>virginica</td>\n",
       "    </tr>\n",
       "    <tr>\n",
       "      <th>87</th>\n",
       "      <td>6.3</td>\n",
       "      <td>2.3</td>\n",
       "      <td>4.4</td>\n",
       "      <td>1.3</td>\n",
       "      <td>versicolor</td>\n",
       "    </tr>\n",
       "    <tr>\n",
       "      <th>54</th>\n",
       "      <td>6.5</td>\n",
       "      <td>2.8</td>\n",
       "      <td>4.6</td>\n",
       "      <td>1.5</td>\n",
       "      <td>versicolor</td>\n",
       "    </tr>\n",
       "    <tr>\n",
       "      <th>130</th>\n",
       "      <td>7.4</td>\n",
       "      <td>2.8</td>\n",
       "      <td>6.1</td>\n",
       "      <td>1.9</td>\n",
       "      <td>virginica</td>\n",
       "    </tr>\n",
       "    <tr>\n",
       "      <th>30</th>\n",
       "      <td>4.8</td>\n",
       "      <td>3.1</td>\n",
       "      <td>1.6</td>\n",
       "      <td>0.2</td>\n",
       "      <td>setosa</td>\n",
       "    </tr>\n",
       "    <tr>\n",
       "      <th>141</th>\n",
       "      <td>6.9</td>\n",
       "      <td>3.1</td>\n",
       "      <td>5.1</td>\n",
       "      <td>2.3</td>\n",
       "      <td>virginica</td>\n",
       "    </tr>\n",
       "    <tr>\n",
       "      <th>68</th>\n",
       "      <td>6.2</td>\n",
       "      <td>2.2</td>\n",
       "      <td>4.5</td>\n",
       "      <td>1.5</td>\n",
       "      <td>versicolor</td>\n",
       "    </tr>\n",
       "    <tr>\n",
       "      <th>91</th>\n",
       "      <td>6.1</td>\n",
       "      <td>3.0</td>\n",
       "      <td>4.6</td>\n",
       "      <td>1.4</td>\n",
       "      <td>versicolor</td>\n",
       "    </tr>\n",
       "    <tr>\n",
       "      <th>8</th>\n",
       "      <td>4.4</td>\n",
       "      <td>2.9</td>\n",
       "      <td>1.4</td>\n",
       "      <td>0.2</td>\n",
       "      <td>setosa</td>\n",
       "    </tr>\n",
       "    <tr>\n",
       "      <th>65</th>\n",
       "      <td>6.7</td>\n",
       "      <td>3.1</td>\n",
       "      <td>4.4</td>\n",
       "      <td>1.4</td>\n",
       "      <td>versicolor</td>\n",
       "    </tr>\n",
       "    <tr>\n",
       "      <th>32</th>\n",
       "      <td>5.2</td>\n",
       "      <td>4.1</td>\n",
       "      <td>1.5</td>\n",
       "      <td>0.1</td>\n",
       "      <td>setosa</td>\n",
       "    </tr>\n",
       "    <tr>\n",
       "      <th>58</th>\n",
       "      <td>6.6</td>\n",
       "      <td>2.9</td>\n",
       "      <td>4.6</td>\n",
       "      <td>1.3</td>\n",
       "      <td>versicolor</td>\n",
       "    </tr>\n",
       "    <tr>\n",
       "      <th>6</th>\n",
       "      <td>4.6</td>\n",
       "      <td>3.4</td>\n",
       "      <td>1.4</td>\n",
       "      <td>0.3</td>\n",
       "      <td>setosa</td>\n",
       "    </tr>\n",
       "    <tr>\n",
       "      <th>59</th>\n",
       "      <td>5.2</td>\n",
       "      <td>2.7</td>\n",
       "      <td>3.9</td>\n",
       "      <td>1.4</td>\n",
       "      <td>versicolor</td>\n",
       "    </tr>\n",
       "    <tr>\n",
       "      <th>45</th>\n",
       "      <td>4.8</td>\n",
       "      <td>3.0</td>\n",
       "      <td>1.4</td>\n",
       "      <td>0.3</td>\n",
       "      <td>setosa</td>\n",
       "    </tr>\n",
       "    <tr>\n",
       "      <th>117</th>\n",
       "      <td>7.7</td>\n",
       "      <td>3.8</td>\n",
       "      <td>6.7</td>\n",
       "      <td>2.2</td>\n",
       "      <td>virginica</td>\n",
       "    </tr>\n",
       "    <tr>\n",
       "      <th>115</th>\n",
       "      <td>6.4</td>\n",
       "      <td>3.2</td>\n",
       "      <td>5.3</td>\n",
       "      <td>2.3</td>\n",
       "      <td>virginica</td>\n",
       "    </tr>\n",
       "    <tr>\n",
       "      <th>112</th>\n",
       "      <td>6.8</td>\n",
       "      <td>3.0</td>\n",
       "      <td>5.5</td>\n",
       "      <td>2.1</td>\n",
       "      <td>virginica</td>\n",
       "    </tr>\n",
       "    <tr>\n",
       "      <th>7</th>\n",
       "      <td>5.0</td>\n",
       "      <td>3.4</td>\n",
       "      <td>1.5</td>\n",
       "      <td>0.2</td>\n",
       "      <td>setosa</td>\n",
       "    </tr>\n",
       "    <tr>\n",
       "      <th>40</th>\n",
       "      <td>5.0</td>\n",
       "      <td>3.5</td>\n",
       "      <td>1.3</td>\n",
       "      <td>0.3</td>\n",
       "      <td>setosa</td>\n",
       "    </tr>\n",
       "  </tbody>\n",
       "</table>\n",
       "</div>"
      ],
      "text/plain": [
       "     sepal_length  sepal_width  petal_length  petal_width     species\n",
       "135           7.7          3.0           6.1          2.3   virginica\n",
       "87            6.3          2.3           4.4          1.3  versicolor\n",
       "54            6.5          2.8           4.6          1.5  versicolor\n",
       "130           7.4          2.8           6.1          1.9   virginica\n",
       "30            4.8          3.1           1.6          0.2      setosa\n",
       "141           6.9          3.1           5.1          2.3   virginica\n",
       "68            6.2          2.2           4.5          1.5  versicolor\n",
       "91            6.1          3.0           4.6          1.4  versicolor\n",
       "8             4.4          2.9           1.4          0.2      setosa\n",
       "65            6.7          3.1           4.4          1.4  versicolor\n",
       "32            5.2          4.1           1.5          0.1      setosa\n",
       "58            6.6          2.9           4.6          1.3  versicolor\n",
       "6             4.6          3.4           1.4          0.3      setosa\n",
       "59            5.2          2.7           3.9          1.4  versicolor\n",
       "45            4.8          3.0           1.4          0.3      setosa\n",
       "117           7.7          3.8           6.7          2.2   virginica\n",
       "115           6.4          3.2           5.3          2.3   virginica\n",
       "112           6.8          3.0           5.5          2.1   virginica\n",
       "7             5.0          3.4           1.5          0.2      setosa\n",
       "40            5.0          3.5           1.3          0.3      setosa"
      ]
     },
     "execution_count": 56,
     "metadata": {},
     "output_type": "execute_result"
    }
   ],
   "source": [
    "indicies = df.index.to_list()\n",
    "test_indicies = random.sample(population=indicies, k = 20)\n",
    "test_data = df.iloc[test_indicies]\n",
    "\n",
    "\n",
    "test_data"
   ]
  },
  {
   "cell_type": "code",
   "execution_count": 69,
   "id": "61895deb",
   "metadata": {},
   "outputs": [],
   "source": [
    "\n",
    "\n",
    "def train_test_split(df, test_size=20):\n",
    "    indicies = df.index.to_list()\n",
    "    test_indecies = random.sample(population=indicies, k=test_size)\n",
    "    test_data = df.iloc[test_indecies]\n",
    "    train_data = df.drop(test_indecies)\n",
    "\n",
    "    train_data = train_data.reset_index()\n",
    "    test_data = test_data.reset_index()\n",
    "\n",
    "    return train_data, test_data"
   ]
  },
  {
   "cell_type": "code",
   "execution_count": 70,
   "id": "626a4c1d",
   "metadata": {},
   "outputs": [],
   "source": [
    "train_data, test_data = train_test_split(df)"
   ]
  },
  {
   "cell_type": "code",
   "execution_count": 71,
   "id": "017e95a7",
   "metadata": {},
   "outputs": [
    {
     "data": {
      "application/vnd.microsoft.datawrangler.viewer.v0+json": {
       "columns": [
        {
         "name": "index",
         "rawType": "object",
         "type": "string"
        },
        {
         "name": "0",
         "rawType": "int64",
         "type": "integer"
        }
       ],
       "ref": "0aeab083-37f5-4136-90da-7b39e1e5b2ba",
       "rows": [
        [
         "index",
         "130"
        ],
        [
         "sepal_length",
         "130"
        ],
        [
         "sepal_width",
         "130"
        ],
        [
         "petal_length",
         "130"
        ],
        [
         "petal_width",
         "130"
        ],
        [
         "species",
         "130"
        ]
       ],
       "shape": {
        "columns": 1,
        "rows": 6
       }
      },
      "text/plain": [
       "index           130\n",
       "sepal_length    130\n",
       "sepal_width     130\n",
       "petal_length    130\n",
       "petal_width     130\n",
       "species         130\n",
       "dtype: int64"
      ]
     },
     "execution_count": 71,
     "metadata": {},
     "output_type": "execute_result"
    }
   ],
   "source": [
    "train_data.count()"
   ]
  },
  {
   "cell_type": "code",
   "execution_count": 72,
   "id": "a041dbf0",
   "metadata": {},
   "outputs": [
    {
     "data": {
      "application/vnd.microsoft.datawrangler.viewer.v0+json": {
       "columns": [
        {
         "name": "index",
         "rawType": "int64",
         "type": "integer"
        },
        {
         "name": "index",
         "rawType": "int64",
         "type": "integer"
        },
        {
         "name": "sepal_length",
         "rawType": "float64",
         "type": "float"
        },
        {
         "name": "sepal_width",
         "rawType": "float64",
         "type": "float"
        },
        {
         "name": "petal_length",
         "rawType": "float64",
         "type": "float"
        },
        {
         "name": "petal_width",
         "rawType": "float64",
         "type": "float"
        },
        {
         "name": "species",
         "rawType": "object",
         "type": "string"
        }
       ],
       "ref": "4029aaf6-cf67-49d5-ba4f-198dea85fc18",
       "rows": [
        [
         "0",
         "0",
         "5.1",
         "3.5",
         "1.4",
         "0.2",
         "setosa"
        ],
        [
         "1",
         "3",
         "4.6",
         "3.1",
         "1.5",
         "0.2",
         "setosa"
        ],
        [
         "2",
         "4",
         "5.0",
         "3.6",
         "1.4",
         "0.2",
         "setosa"
        ],
        [
         "3",
         "5",
         "5.4",
         "3.9",
         "1.7",
         "0.4",
         "setosa"
        ],
        [
         "4",
         "6",
         "4.6",
         "3.4",
         "1.4",
         "0.3",
         "setosa"
        ],
        [
         "5",
         "7",
         "5.0",
         "3.4",
         "1.5",
         "0.2",
         "setosa"
        ],
        [
         "6",
         "8",
         "4.4",
         "2.9",
         "1.4",
         "0.2",
         "setosa"
        ],
        [
         "7",
         "9",
         "4.9",
         "3.1",
         "1.5",
         "0.1",
         "setosa"
        ],
        [
         "8",
         "10",
         "5.4",
         "3.7",
         "1.5",
         "0.2",
         "setosa"
        ],
        [
         "9",
         "13",
         "4.3",
         "3.0",
         "1.1",
         "0.1",
         "setosa"
        ],
        [
         "10",
         "14",
         "5.8",
         "4.0",
         "1.2",
         "0.2",
         "setosa"
        ],
        [
         "11",
         "15",
         "5.7",
         "4.4",
         "1.5",
         "0.4",
         "setosa"
        ],
        [
         "12",
         "16",
         "5.4",
         "3.9",
         "1.3",
         "0.4",
         "setosa"
        ],
        [
         "13",
         "17",
         "5.1",
         "3.5",
         "1.4",
         "0.3",
         "setosa"
        ],
        [
         "14",
         "18",
         "5.7",
         "3.8",
         "1.7",
         "0.3",
         "setosa"
        ],
        [
         "15",
         "21",
         "5.1",
         "3.7",
         "1.5",
         "0.4",
         "setosa"
        ],
        [
         "16",
         "22",
         "4.6",
         "3.6",
         "1.0",
         "0.2",
         "setosa"
        ],
        [
         "17",
         "23",
         "5.1",
         "3.3",
         "1.7",
         "0.5",
         "setosa"
        ],
        [
         "18",
         "24",
         "4.8",
         "3.4",
         "1.9",
         "0.2",
         "setosa"
        ],
        [
         "19",
         "26",
         "5.0",
         "3.4",
         "1.6",
         "0.4",
         "setosa"
        ],
        [
         "20",
         "27",
         "5.2",
         "3.5",
         "1.5",
         "0.2",
         "setosa"
        ],
        [
         "21",
         "28",
         "5.2",
         "3.4",
         "1.4",
         "0.2",
         "setosa"
        ],
        [
         "22",
         "29",
         "4.7",
         "3.2",
         "1.6",
         "0.2",
         "setosa"
        ],
        [
         "23",
         "30",
         "4.8",
         "3.1",
         "1.6",
         "0.2",
         "setosa"
        ],
        [
         "24",
         "31",
         "5.4",
         "3.4",
         "1.5",
         "0.4",
         "setosa"
        ],
        [
         "25",
         "34",
         "4.9",
         "3.1",
         "1.5",
         "0.2",
         "setosa"
        ],
        [
         "26",
         "35",
         "5.0",
         "3.2",
         "1.2",
         "0.2",
         "setosa"
        ],
        [
         "27",
         "36",
         "5.5",
         "3.5",
         "1.3",
         "0.2",
         "setosa"
        ],
        [
         "28",
         "37",
         "4.9",
         "3.6",
         "1.4",
         "0.1",
         "setosa"
        ],
        [
         "29",
         "39",
         "5.1",
         "3.4",
         "1.5",
         "0.2",
         "setosa"
        ],
        [
         "30",
         "40",
         "5.0",
         "3.5",
         "1.3",
         "0.3",
         "setosa"
        ],
        [
         "31",
         "41",
         "4.5",
         "2.3",
         "1.3",
         "0.3",
         "setosa"
        ],
        [
         "32",
         "42",
         "4.4",
         "3.2",
         "1.3",
         "0.2",
         "setosa"
        ],
        [
         "33",
         "43",
         "5.0",
         "3.5",
         "1.6",
         "0.6",
         "setosa"
        ],
        [
         "34",
         "44",
         "5.1",
         "3.8",
         "1.9",
         "0.4",
         "setosa"
        ],
        [
         "35",
         "45",
         "4.8",
         "3.0",
         "1.4",
         "0.3",
         "setosa"
        ],
        [
         "36",
         "46",
         "5.1",
         "3.8",
         "1.6",
         "0.2",
         "setosa"
        ],
        [
         "37",
         "47",
         "4.6",
         "3.2",
         "1.4",
         "0.2",
         "setosa"
        ],
        [
         "38",
         "48",
         "5.3",
         "3.7",
         "1.5",
         "0.2",
         "setosa"
        ],
        [
         "39",
         "50",
         "7.0",
         "3.2",
         "4.7",
         "1.4",
         "versicolor"
        ],
        [
         "40",
         "52",
         "6.9",
         "3.1",
         "4.9",
         "1.5",
         "versicolor"
        ],
        [
         "41",
         "53",
         "5.5",
         "2.3",
         "4.0",
         "1.3",
         "versicolor"
        ],
        [
         "42",
         "54",
         "6.5",
         "2.8",
         "4.6",
         "1.5",
         "versicolor"
        ],
        [
         "43",
         "55",
         "5.7",
         "2.8",
         "4.5",
         "1.3",
         "versicolor"
        ],
        [
         "44",
         "56",
         "6.3",
         "3.3",
         "4.7",
         "1.6",
         "versicolor"
        ],
        [
         "45",
         "59",
         "5.2",
         "2.7",
         "3.9",
         "1.4",
         "versicolor"
        ],
        [
         "46",
         "60",
         "5.0",
         "2.0",
         "3.5",
         "1.0",
         "versicolor"
        ],
        [
         "47",
         "61",
         "5.9",
         "3.0",
         "4.2",
         "1.5",
         "versicolor"
        ],
        [
         "48",
         "62",
         "6.0",
         "2.2",
         "4.0",
         "1.0",
         "versicolor"
        ],
        [
         "49",
         "63",
         "6.1",
         "2.9",
         "4.7",
         "1.4",
         "versicolor"
        ]
       ],
       "shape": {
        "columns": 6,
        "rows": 130
       }
      },
      "text/html": [
       "<div>\n",
       "<style scoped>\n",
       "    .dataframe tbody tr th:only-of-type {\n",
       "        vertical-align: middle;\n",
       "    }\n",
       "\n",
       "    .dataframe tbody tr th {\n",
       "        vertical-align: top;\n",
       "    }\n",
       "\n",
       "    .dataframe thead th {\n",
       "        text-align: right;\n",
       "    }\n",
       "</style>\n",
       "<table border=\"1\" class=\"dataframe\">\n",
       "  <thead>\n",
       "    <tr style=\"text-align: right;\">\n",
       "      <th></th>\n",
       "      <th>index</th>\n",
       "      <th>sepal_length</th>\n",
       "      <th>sepal_width</th>\n",
       "      <th>petal_length</th>\n",
       "      <th>petal_width</th>\n",
       "      <th>species</th>\n",
       "    </tr>\n",
       "  </thead>\n",
       "  <tbody>\n",
       "    <tr>\n",
       "      <th>0</th>\n",
       "      <td>0</td>\n",
       "      <td>5.1</td>\n",
       "      <td>3.5</td>\n",
       "      <td>1.4</td>\n",
       "      <td>0.2</td>\n",
       "      <td>setosa</td>\n",
       "    </tr>\n",
       "    <tr>\n",
       "      <th>1</th>\n",
       "      <td>3</td>\n",
       "      <td>4.6</td>\n",
       "      <td>3.1</td>\n",
       "      <td>1.5</td>\n",
       "      <td>0.2</td>\n",
       "      <td>setosa</td>\n",
       "    </tr>\n",
       "    <tr>\n",
       "      <th>2</th>\n",
       "      <td>4</td>\n",
       "      <td>5.0</td>\n",
       "      <td>3.6</td>\n",
       "      <td>1.4</td>\n",
       "      <td>0.2</td>\n",
       "      <td>setosa</td>\n",
       "    </tr>\n",
       "    <tr>\n",
       "      <th>3</th>\n",
       "      <td>5</td>\n",
       "      <td>5.4</td>\n",
       "      <td>3.9</td>\n",
       "      <td>1.7</td>\n",
       "      <td>0.4</td>\n",
       "      <td>setosa</td>\n",
       "    </tr>\n",
       "    <tr>\n",
       "      <th>4</th>\n",
       "      <td>6</td>\n",
       "      <td>4.6</td>\n",
       "      <td>3.4</td>\n",
       "      <td>1.4</td>\n",
       "      <td>0.3</td>\n",
       "      <td>setosa</td>\n",
       "    </tr>\n",
       "    <tr>\n",
       "      <th>...</th>\n",
       "      <td>...</td>\n",
       "      <td>...</td>\n",
       "      <td>...</td>\n",
       "      <td>...</td>\n",
       "      <td>...</td>\n",
       "      <td>...</td>\n",
       "    </tr>\n",
       "    <tr>\n",
       "      <th>125</th>\n",
       "      <td>145</td>\n",
       "      <td>6.7</td>\n",
       "      <td>3.0</td>\n",
       "      <td>5.2</td>\n",
       "      <td>2.3</td>\n",
       "      <td>virginica</td>\n",
       "    </tr>\n",
       "    <tr>\n",
       "      <th>126</th>\n",
       "      <td>146</td>\n",
       "      <td>6.3</td>\n",
       "      <td>2.5</td>\n",
       "      <td>5.0</td>\n",
       "      <td>1.9</td>\n",
       "      <td>virginica</td>\n",
       "    </tr>\n",
       "    <tr>\n",
       "      <th>127</th>\n",
       "      <td>147</td>\n",
       "      <td>6.5</td>\n",
       "      <td>3.0</td>\n",
       "      <td>5.2</td>\n",
       "      <td>2.0</td>\n",
       "      <td>virginica</td>\n",
       "    </tr>\n",
       "    <tr>\n",
       "      <th>128</th>\n",
       "      <td>148</td>\n",
       "      <td>6.2</td>\n",
       "      <td>3.4</td>\n",
       "      <td>5.4</td>\n",
       "      <td>2.3</td>\n",
       "      <td>virginica</td>\n",
       "    </tr>\n",
       "    <tr>\n",
       "      <th>129</th>\n",
       "      <td>149</td>\n",
       "      <td>5.9</td>\n",
       "      <td>3.0</td>\n",
       "      <td>5.1</td>\n",
       "      <td>1.8</td>\n",
       "      <td>virginica</td>\n",
       "    </tr>\n",
       "  </tbody>\n",
       "</table>\n",
       "<p>130 rows × 6 columns</p>\n",
       "</div>"
      ],
      "text/plain": [
       "     index  sepal_length  sepal_width  petal_length  petal_width    species\n",
       "0        0           5.1          3.5           1.4          0.2     setosa\n",
       "1        3           4.6          3.1           1.5          0.2     setosa\n",
       "2        4           5.0          3.6           1.4          0.2     setosa\n",
       "3        5           5.4          3.9           1.7          0.4     setosa\n",
       "4        6           4.6          3.4           1.4          0.3     setosa\n",
       "..     ...           ...          ...           ...          ...        ...\n",
       "125    145           6.7          3.0           5.2          2.3  virginica\n",
       "126    146           6.3          2.5           5.0          1.9  virginica\n",
       "127    147           6.5          3.0           5.2          2.0  virginica\n",
       "128    148           6.2          3.4           5.4          2.3  virginica\n",
       "129    149           5.9          3.0           5.1          1.8  virginica\n",
       "\n",
       "[130 rows x 6 columns]"
      ]
     },
     "execution_count": 72,
     "metadata": {},
     "output_type": "execute_result"
    }
   ],
   "source": [
    "train_data"
   ]
  },
  {
   "cell_type": "code",
   "execution_count": 68,
   "id": "5a12f524",
   "metadata": {},
   "outputs": [
    {
     "data": {
      "application/vnd.microsoft.datawrangler.viewer.v0+json": {
       "columns": [
        {
         "name": "index",
         "rawType": "int64",
         "type": "integer"
        },
        {
         "name": "index",
         "rawType": "int64",
         "type": "integer"
        },
        {
         "name": "sepal_length",
         "rawType": "float64",
         "type": "float"
        },
        {
         "name": "sepal_width",
         "rawType": "float64",
         "type": "float"
        },
        {
         "name": "petal_length",
         "rawType": "float64",
         "type": "float"
        },
        {
         "name": "petal_width",
         "rawType": "float64",
         "type": "float"
        },
        {
         "name": "species",
         "rawType": "object",
         "type": "string"
        }
       ],
       "ref": "e664eeff-ffd0-4755-888b-c7c99d370dbd",
       "rows": [
        [
         "0",
         "127",
         "6.1",
         "3.0",
         "4.9",
         "1.8",
         "virginica"
        ],
        [
         "1",
         "92",
         "5.8",
         "2.6",
         "4.0",
         "1.2",
         "versicolor"
        ],
        [
         "2",
         "39",
         "5.1",
         "3.4",
         "1.5",
         "0.2",
         "setosa"
        ],
        [
         "3",
         "68",
         "6.2",
         "2.2",
         "4.5",
         "1.5",
         "versicolor"
        ],
        [
         "4",
         "107",
         "7.3",
         "2.9",
         "6.3",
         "1.8",
         "virginica"
        ],
        [
         "5",
         "15",
         "5.7",
         "4.4",
         "1.5",
         "0.4",
         "setosa"
        ],
        [
         "6",
         "101",
         "5.8",
         "2.7",
         "5.1",
         "1.9",
         "virginica"
        ],
        [
         "7",
         "31",
         "5.4",
         "3.4",
         "1.5",
         "0.4",
         "setosa"
        ],
        [
         "8",
         "50",
         "7.0",
         "3.2",
         "4.7",
         "1.4",
         "versicolor"
        ],
        [
         "9",
         "64",
         "5.6",
         "2.9",
         "3.6",
         "1.3",
         "versicolor"
        ],
        [
         "10",
         "130",
         "7.4",
         "2.8",
         "6.1",
         "1.9",
         "virginica"
        ],
        [
         "11",
         "88",
         "5.6",
         "3.0",
         "4.1",
         "1.3",
         "versicolor"
        ],
        [
         "12",
         "48",
         "5.3",
         "3.7",
         "1.5",
         "0.2",
         "setosa"
        ],
        [
         "13",
         "74",
         "6.4",
         "2.9",
         "4.3",
         "1.3",
         "versicolor"
        ],
        [
         "14",
         "148",
         "6.2",
         "3.4",
         "5.4",
         "2.3",
         "virginica"
        ],
        [
         "15",
         "3",
         "4.6",
         "3.1",
         "1.5",
         "0.2",
         "setosa"
        ],
        [
         "16",
         "46",
         "5.1",
         "3.8",
         "1.6",
         "0.2",
         "setosa"
        ],
        [
         "17",
         "97",
         "6.2",
         "2.9",
         "4.3",
         "1.3",
         "versicolor"
        ],
        [
         "18",
         "40",
         "5.0",
         "3.5",
         "1.3",
         "0.3",
         "setosa"
        ],
        [
         "19",
         "16",
         "5.4",
         "3.9",
         "1.3",
         "0.4",
         "setosa"
        ]
       ],
       "shape": {
        "columns": 6,
        "rows": 20
       }
      },
      "text/html": [
       "<div>\n",
       "<style scoped>\n",
       "    .dataframe tbody tr th:only-of-type {\n",
       "        vertical-align: middle;\n",
       "    }\n",
       "\n",
       "    .dataframe tbody tr th {\n",
       "        vertical-align: top;\n",
       "    }\n",
       "\n",
       "    .dataframe thead th {\n",
       "        text-align: right;\n",
       "    }\n",
       "</style>\n",
       "<table border=\"1\" class=\"dataframe\">\n",
       "  <thead>\n",
       "    <tr style=\"text-align: right;\">\n",
       "      <th></th>\n",
       "      <th>index</th>\n",
       "      <th>sepal_length</th>\n",
       "      <th>sepal_width</th>\n",
       "      <th>petal_length</th>\n",
       "      <th>petal_width</th>\n",
       "      <th>species</th>\n",
       "    </tr>\n",
       "  </thead>\n",
       "  <tbody>\n",
       "    <tr>\n",
       "      <th>0</th>\n",
       "      <td>127</td>\n",
       "      <td>6.1</td>\n",
       "      <td>3.0</td>\n",
       "      <td>4.9</td>\n",
       "      <td>1.8</td>\n",
       "      <td>virginica</td>\n",
       "    </tr>\n",
       "    <tr>\n",
       "      <th>1</th>\n",
       "      <td>92</td>\n",
       "      <td>5.8</td>\n",
       "      <td>2.6</td>\n",
       "      <td>4.0</td>\n",
       "      <td>1.2</td>\n",
       "      <td>versicolor</td>\n",
       "    </tr>\n",
       "    <tr>\n",
       "      <th>2</th>\n",
       "      <td>39</td>\n",
       "      <td>5.1</td>\n",
       "      <td>3.4</td>\n",
       "      <td>1.5</td>\n",
       "      <td>0.2</td>\n",
       "      <td>setosa</td>\n",
       "    </tr>\n",
       "    <tr>\n",
       "      <th>3</th>\n",
       "      <td>68</td>\n",
       "      <td>6.2</td>\n",
       "      <td>2.2</td>\n",
       "      <td>4.5</td>\n",
       "      <td>1.5</td>\n",
       "      <td>versicolor</td>\n",
       "    </tr>\n",
       "    <tr>\n",
       "      <th>4</th>\n",
       "      <td>107</td>\n",
       "      <td>7.3</td>\n",
       "      <td>2.9</td>\n",
       "      <td>6.3</td>\n",
       "      <td>1.8</td>\n",
       "      <td>virginica</td>\n",
       "    </tr>\n",
       "    <tr>\n",
       "      <th>5</th>\n",
       "      <td>15</td>\n",
       "      <td>5.7</td>\n",
       "      <td>4.4</td>\n",
       "      <td>1.5</td>\n",
       "      <td>0.4</td>\n",
       "      <td>setosa</td>\n",
       "    </tr>\n",
       "    <tr>\n",
       "      <th>6</th>\n",
       "      <td>101</td>\n",
       "      <td>5.8</td>\n",
       "      <td>2.7</td>\n",
       "      <td>5.1</td>\n",
       "      <td>1.9</td>\n",
       "      <td>virginica</td>\n",
       "    </tr>\n",
       "    <tr>\n",
       "      <th>7</th>\n",
       "      <td>31</td>\n",
       "      <td>5.4</td>\n",
       "      <td>3.4</td>\n",
       "      <td>1.5</td>\n",
       "      <td>0.4</td>\n",
       "      <td>setosa</td>\n",
       "    </tr>\n",
       "    <tr>\n",
       "      <th>8</th>\n",
       "      <td>50</td>\n",
       "      <td>7.0</td>\n",
       "      <td>3.2</td>\n",
       "      <td>4.7</td>\n",
       "      <td>1.4</td>\n",
       "      <td>versicolor</td>\n",
       "    </tr>\n",
       "    <tr>\n",
       "      <th>9</th>\n",
       "      <td>64</td>\n",
       "      <td>5.6</td>\n",
       "      <td>2.9</td>\n",
       "      <td>3.6</td>\n",
       "      <td>1.3</td>\n",
       "      <td>versicolor</td>\n",
       "    </tr>\n",
       "    <tr>\n",
       "      <th>10</th>\n",
       "      <td>130</td>\n",
       "      <td>7.4</td>\n",
       "      <td>2.8</td>\n",
       "      <td>6.1</td>\n",
       "      <td>1.9</td>\n",
       "      <td>virginica</td>\n",
       "    </tr>\n",
       "    <tr>\n",
       "      <th>11</th>\n",
       "      <td>88</td>\n",
       "      <td>5.6</td>\n",
       "      <td>3.0</td>\n",
       "      <td>4.1</td>\n",
       "      <td>1.3</td>\n",
       "      <td>versicolor</td>\n",
       "    </tr>\n",
       "    <tr>\n",
       "      <th>12</th>\n",
       "      <td>48</td>\n",
       "      <td>5.3</td>\n",
       "      <td>3.7</td>\n",
       "      <td>1.5</td>\n",
       "      <td>0.2</td>\n",
       "      <td>setosa</td>\n",
       "    </tr>\n",
       "    <tr>\n",
       "      <th>13</th>\n",
       "      <td>74</td>\n",
       "      <td>6.4</td>\n",
       "      <td>2.9</td>\n",
       "      <td>4.3</td>\n",
       "      <td>1.3</td>\n",
       "      <td>versicolor</td>\n",
       "    </tr>\n",
       "    <tr>\n",
       "      <th>14</th>\n",
       "      <td>148</td>\n",
       "      <td>6.2</td>\n",
       "      <td>3.4</td>\n",
       "      <td>5.4</td>\n",
       "      <td>2.3</td>\n",
       "      <td>virginica</td>\n",
       "    </tr>\n",
       "    <tr>\n",
       "      <th>15</th>\n",
       "      <td>3</td>\n",
       "      <td>4.6</td>\n",
       "      <td>3.1</td>\n",
       "      <td>1.5</td>\n",
       "      <td>0.2</td>\n",
       "      <td>setosa</td>\n",
       "    </tr>\n",
       "    <tr>\n",
       "      <th>16</th>\n",
       "      <td>46</td>\n",
       "      <td>5.1</td>\n",
       "      <td>3.8</td>\n",
       "      <td>1.6</td>\n",
       "      <td>0.2</td>\n",
       "      <td>setosa</td>\n",
       "    </tr>\n",
       "    <tr>\n",
       "      <th>17</th>\n",
       "      <td>97</td>\n",
       "      <td>6.2</td>\n",
       "      <td>2.9</td>\n",
       "      <td>4.3</td>\n",
       "      <td>1.3</td>\n",
       "      <td>versicolor</td>\n",
       "    </tr>\n",
       "    <tr>\n",
       "      <th>18</th>\n",
       "      <td>40</td>\n",
       "      <td>5.0</td>\n",
       "      <td>3.5</td>\n",
       "      <td>1.3</td>\n",
       "      <td>0.3</td>\n",
       "      <td>setosa</td>\n",
       "    </tr>\n",
       "    <tr>\n",
       "      <th>19</th>\n",
       "      <td>16</td>\n",
       "      <td>5.4</td>\n",
       "      <td>3.9</td>\n",
       "      <td>1.3</td>\n",
       "      <td>0.4</td>\n",
       "      <td>setosa</td>\n",
       "    </tr>\n",
       "  </tbody>\n",
       "</table>\n",
       "</div>"
      ],
      "text/plain": [
       "    index  sepal_length  sepal_width  petal_length  petal_width     species\n",
       "0     127           6.1          3.0           4.9          1.8   virginica\n",
       "1      92           5.8          2.6           4.0          1.2  versicolor\n",
       "2      39           5.1          3.4           1.5          0.2      setosa\n",
       "3      68           6.2          2.2           4.5          1.5  versicolor\n",
       "4     107           7.3          2.9           6.3          1.8   virginica\n",
       "5      15           5.7          4.4           1.5          0.4      setosa\n",
       "6     101           5.8          2.7           5.1          1.9   virginica\n",
       "7      31           5.4          3.4           1.5          0.4      setosa\n",
       "8      50           7.0          3.2           4.7          1.4  versicolor\n",
       "9      64           5.6          2.9           3.6          1.3  versicolor\n",
       "10    130           7.4          2.8           6.1          1.9   virginica\n",
       "11     88           5.6          3.0           4.1          1.3  versicolor\n",
       "12     48           5.3          3.7           1.5          0.2      setosa\n",
       "13     74           6.4          2.9           4.3          1.3  versicolor\n",
       "14    148           6.2          3.4           5.4          2.3   virginica\n",
       "15      3           4.6          3.1           1.5          0.2      setosa\n",
       "16     46           5.1          3.8           1.6          0.2      setosa\n",
       "17     97           6.2          2.9           4.3          1.3  versicolor\n",
       "18     40           5.0          3.5           1.3          0.3      setosa\n",
       "19     16           5.4          3.9           1.3          0.4      setosa"
      ]
     },
     "execution_count": 68,
     "metadata": {},
     "output_type": "execute_result"
    }
   ],
   "source": [
    "test_data.reset_index()"
   ]
  }
 ],
 "metadata": {
  "kernelspec": {
   "display_name": "Python 3",
   "language": "python",
   "name": "python3"
  },
  "language_info": {
   "codemirror_mode": {
    "name": "ipython",
    "version": 3
   },
   "file_extension": ".py",
   "mimetype": "text/x-python",
   "name": "python",
   "nbconvert_exporter": "python",
   "pygments_lexer": "ipython3",
   "version": "3.12.11"
  }
 },
 "nbformat": 4,
 "nbformat_minor": 5
}
